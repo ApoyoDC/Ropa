{
 "cells": [
  {
   "cell_type": "code",
   "execution_count": 1,
   "metadata": {},
   "outputs": [
    {
     "name": "stderr",
     "output_type": "stream",
     "text": [
      "Downloading: \"https://github.com/ultralytics/yolov5/archive/master.zip\" to C:\\Users\\diego/.cache\\torch\\hub\\master.zip\n",
      "YOLOv5  2022-6-12 Python-3.10.3 torch-1.11.0+cpu CPU\n",
      "\n",
      "Fusing layers... \n",
      "Model summary: 213 layers, 7012822 parameters, 0 gradients\n",
      "Adding AutoShape... \n"
     ]
    },
    {
     "name": "stdout",
     "output_type": "stream",
     "text": [
      "Using Device:  cpu\n"
     ]
    },
    {
     "ename": "error",
     "evalue": "OpenCV(4.5.5) D:\\a\\opencv-python\\opencv-python\\opencv\\modules\\imgproc\\src\\color.cpp:182: error: (-215:Assertion failed) !_src.empty() in function 'cv::cvtColor'\n",
     "output_type": "error",
     "traceback": [
      "\u001b[1;31m---------------------------------------------------------------------------\u001b[0m",
      "\u001b[1;31merror\u001b[0m                                     Traceback (most recent call last)",
      "\u001b[1;32mc:\\Users\\diego\\Documents\\GitHub\\Ropa\\Untitled-1.ipynb Cell 1'\u001b[0m in \u001b[0;36m<cell line: 78>\u001b[1;34m()\u001b[0m\n\u001b[0;32m     <a href='vscode-notebook-cell:/c%3A/Users/diego/Documents/GitHub/Ropa/Untitled-1.ipynb#ch0000000?line=74'>75</a>\u001b[0m         cap\u001b[39m.\u001b[39mrelease()\n\u001b[0;32m     <a href='vscode-notebook-cell:/c%3A/Users/diego/Documents/GitHub/Ropa/Untitled-1.ipynb#ch0000000?line=76'>77</a>\u001b[0m detector \u001b[39m=\u001b[39m ObjectDetection(capture_index\u001b[39m=\u001b[39m\u001b[39m0\u001b[39m,model_name\u001b[39m=\u001b[39m\u001b[39m'\u001b[39m\u001b[39mbest.pt\u001b[39m\u001b[39m'\u001b[39m)\n\u001b[1;32m---> <a href='vscode-notebook-cell:/c%3A/Users/diego/Documents/GitHub/Ropa/Untitled-1.ipynb#ch0000000?line=77'>78</a>\u001b[0m detector()\n",
      "\u001b[1;32mc:\\Users\\diego\\Documents\\GitHub\\Ropa\\Untitled-1.ipynb Cell 1'\u001b[0m in \u001b[0;36mObjectDetection.__call__\u001b[1;34m(self)\u001b[0m\n\u001b[0;32m     <a href='vscode-notebook-cell:/c%3A/Users/diego/Documents/GitHub/Ropa/Untitled-1.ipynb#ch0000000?line=65'>66</a>\u001b[0m \u001b[39m#print(f\"Frames Per Second : {fps}\")\u001b[39;00m\n\u001b[0;32m     <a href='vscode-notebook-cell:/c%3A/Users/diego/Documents/GitHub/Ropa/Untitled-1.ipynb#ch0000000?line=67'>68</a>\u001b[0m cv2\u001b[39m.\u001b[39mputText(frame, \u001b[39mf\u001b[39m\u001b[39m'\u001b[39m\u001b[39mFPS: \u001b[39m\u001b[39m{\u001b[39;00m\u001b[39mint\u001b[39m(fps)\u001b[39m}\u001b[39;00m\u001b[39m'\u001b[39m, (\u001b[39m20\u001b[39m,\u001b[39m70\u001b[39m), cv2\u001b[39m.\u001b[39mFONT_HERSHEY_SIMPLEX, \u001b[39m1.5\u001b[39m, (\u001b[39m0\u001b[39m,\u001b[39m255\u001b[39m,\u001b[39m0\u001b[39m), \u001b[39m2\u001b[39m)\n\u001b[1;32m---> <a href='vscode-notebook-cell:/c%3A/Users/diego/Documents/GitHub/Ropa/Untitled-1.ipynb#ch0000000?line=69'>70</a>\u001b[0m cv2\u001b[39m.\u001b[39;49mimshow(\u001b[39m'\u001b[39;49m\u001b[39mYOLOv5 Detection\u001b[39;49m\u001b[39m'\u001b[39;49m, frame)\n\u001b[0;32m     <a href='vscode-notebook-cell:/c%3A/Users/diego/Documents/GitHub/Ropa/Untitled-1.ipynb#ch0000000?line=71'>72</a>\u001b[0m \u001b[39mif\u001b[39;00m cv2\u001b[39m.\u001b[39mwaitKey(\u001b[39m5\u001b[39m) \u001b[39m&\u001b[39m \u001b[39m0xFF\u001b[39m \u001b[39m==\u001b[39m \u001b[39m27\u001b[39m:\n\u001b[0;32m     <a href='vscode-notebook-cell:/c%3A/Users/diego/Documents/GitHub/Ropa/Untitled-1.ipynb#ch0000000?line=72'>73</a>\u001b[0m     \u001b[39mbreak\u001b[39;00m\n",
      "File \u001b[1;32m~/.cache\\torch\\hub\\ultralytics_yolov5_master\\utils\\general.py:1012\u001b[0m, in \u001b[0;36mimshow\u001b[1;34m(path, im)\u001b[0m\n\u001b[0;32m   1011\u001b[0m \u001b[39mdef\u001b[39;00m \u001b[39mimshow\u001b[39m(path, im):\n\u001b[1;32m-> 1012\u001b[0m     imshow_(path\u001b[39m.\u001b[39;49mencode(\u001b[39m'\u001b[39;49m\u001b[39municode_escape\u001b[39;49m\u001b[39m'\u001b[39;49m)\u001b[39m.\u001b[39;49mdecode(), im)\n",
      "\u001b[1;31merror\u001b[0m: OpenCV(4.5.5) D:\\a\\opencv-python\\opencv-python\\opencv\\modules\\imgproc\\src\\color.cpp:182: error: (-215:Assertion failed) !_src.empty() in function 'cv::cvtColor'\n"
     ]
    },
    {
     "ename": "",
     "evalue": "",
     "output_type": "error",
     "traceback": [
      "\u001b[1;31mThe Kernel crashed while executing code in the the current cell or a previous cell. Please review the code in the cell(s) to identify a possible cause of the failure. Click <a href='https://aka.ms/vscodeJupyterKernelCrash'>here</a> for more info. View Jupyter <a href='command:jupyter.viewOutput'>log</a> for further details."
     ]
    }
   ],
   "source": [
    "import torch\n",
    "import numpy as np\n",
    "import cv2\n",
    "from time import time\n",
    "\n",
    "class ObjectDetection:\n",
    "    def __init__(self, capture_index,model_name):\n",
    "        self.capture_index=capture_index\n",
    "        self.model = self.load_model(model_name)\n",
    "        self.classes = self.model.names\n",
    "        self.device='cuda' if torch.cuda.is_available() else 'cpu'\n",
    "        print('Using Device: ',self.device)\n",
    "\n",
    "    def get_video_capture(self):\n",
    "        return cv2.VideoCapture(self.capture_index)\n",
    "    \n",
    "    def load_model(self,model_name):\n",
    "        if model_name:\n",
    "            model=torch.hub.load('ultralytics/yolov5','custom',path=model_name,force_reload=True)\n",
    "        else:\n",
    "            model=torch.hub.load('ultralytics/yolov5','yolov5s',pretrained=True)\n",
    "        return model\n",
    "\n",
    "    def score_frame(self,frame):\n",
    "        self.model.to(self.device)\n",
    "        frame=[frame]\n",
    "        results = self.model(frame)\n",
    "        labels,cord=results.xyxyn[0][:,-1],results.xyxyn[0][:,:-1]\n",
    "        return labels,cord\n",
    "\n",
    "    def class_to_labels(self,x):\n",
    "        return self.classes[int(x)]\n",
    "    \n",
    "    def plot_boxes(self,results,frame):\n",
    "        labels,cord=results\n",
    "        n=len(labels)\n",
    "        x_shape,y_shape=frame.shape[1],frame.shape[0]\n",
    "        for i in range(n):\n",
    "            row=cord[i]\n",
    "            if row[4] >= 0.2:\n",
    "                x1,y1,x2,y2=int(row[0]*x_shape),int(row[1]*y_shape),int(row[2]*x_shape),int(row[3]*y_shape)\n",
    "                bgr=(0,255,0)\n",
    "                cv2.rectangle(frame,(x1,y1),(x2,y2),bgr,2)\n",
    "                cv2.putText(frame,self.class_to_labels(labels[i]),(x1,y1),cv2.FONT_HERSHEY_SIMPLEX,0.9,bgr,2)\n",
    "\n",
    "    def __call__(self):\n",
    "        \"\"\"\n",
    "        This function is called when class is executed, it runs the loop to read the video frame by frame,\n",
    "        and write the output into a new file.\n",
    "        :return: void\n",
    "        \"\"\"\n",
    "        cap = self.get_video_capture()\n",
    "        assert cap.isOpened()\n",
    "      \n",
    "        while True:\n",
    "          \n",
    "            ret, frame = cap.read()\n",
    "            assert ret\n",
    "            \n",
    "            start_time = time()\n",
    "            results = self.score_frame(frame)\n",
    "            frame = self.plot_boxes(results, frame)\n",
    "            \n",
    "            end_time = time()\n",
    "            fps = 1/np.round(end_time - start_time, 2)\n",
    "            #print(f\"Frames Per Second : {fps}\")\n",
    "             \n",
    "            cv2.putText(frame, f'FPS: {int(fps)}', (20,70), cv2.FONT_HERSHEY_SIMPLEX, 1.5, (0,255,0), 2)\n",
    "            \n",
    "            cv2.imshow('YOLOv5 Detection', frame)\n",
    " \n",
    "            if cv2.waitKey(5) & 0xFF == 27:\n",
    "                break\n",
    "      \n",
    "        cap.release()\n",
    "\n",
    "detector = ObjectDetection(capture_index=0,model_name='best.pt')\n",
    "detector()\n"
   ]
  }
 ],
 "metadata": {
  "kernelspec": {
   "display_name": "Python 3.10.3 64-bit",
   "language": "python",
   "name": "python3"
  },
  "language_info": {
   "codemirror_mode": {
    "name": "ipython",
    "version": 3
   },
   "file_extension": ".py",
   "mimetype": "text/x-python",
   "name": "python",
   "nbconvert_exporter": "python",
   "pygments_lexer": "ipython3",
   "version": "3.10.3"
  },
  "orig_nbformat": 4,
  "vscode": {
   "interpreter": {
    "hash": "26de051ba29f2982a8de78e945f0abaf191376122a1563185a90213a26c5da77"
   }
  }
 },
 "nbformat": 4,
 "nbformat_minor": 2
}
